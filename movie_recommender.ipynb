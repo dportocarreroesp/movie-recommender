{
  "nbformat": 4,
  "nbformat_minor": 0,
  "metadata": {
    "colab": {
      "name": "movie_recommender.ipynb",
      "provenance": [],
      "collapsed_sections": []
    },
    "kernelspec": {
      "name": "python3",
      "display_name": "Python 3"
    },
    "language_info": {
      "name": "python"
    }
  },
  "cells": [
    {
      "cell_type": "markdown",
      "metadata": {
        "id": "EWucy4gDWaxq"
      },
      "source": [
        "##Cargando datos en el environment"
      ]
    },
    {
      "cell_type": "markdown",
      "metadata": {
        "id": "mfABwAHn3x-q"
      },
      "source": [
        "Descargando datasets"
      ]
    },
    {
      "cell_type": "code",
      "metadata": {
        "colab": {
          "base_uri": "https://localhost:8080/"
        },
        "id": "9w7sgcU8VxZ5",
        "outputId": "885cdaed-05a4-498e-f0e6-5f74b0b3a763"
      },
      "source": [
        "!wget --no-check-certificate https://files.grouplens.org/datasets/movielens/ml-latest-small.zip\n",
        "!wget --no-check-certificate https://files.grouplens.org/datasets/movielens/ml-1m.zip\n",
        "!wget --no-check-certificate https://files.grouplens.org/datasets/movielens/ml-25m.zip"
      ],
      "execution_count": 3,
      "outputs": [
        {
          "output_type": "stream",
          "text": [
            "--2021-05-14 14:30:58--  https://files.grouplens.org/datasets/movielens/ml-latest-small.zip\n",
            "Resolving files.grouplens.org (files.grouplens.org)... 128.101.65.152\n",
            "Connecting to files.grouplens.org (files.grouplens.org)|128.101.65.152|:443... connected.\n",
            "WARNING: cannot verify files.grouplens.org's certificate, issued by ‘CN=InCommon RSA Server CA,OU=InCommon,O=Internet2,L=Ann Arbor,ST=MI,C=US’:\n",
            "  Unable to locally verify the issuer's authority.\n",
            "HTTP request sent, awaiting response... 200 OK\n",
            "Length: 978202 (955K) [application/zip]\n",
            "Saving to: ‘ml-latest-small.zip’\n",
            "\n",
            "ml-latest-small.zip 100%[===================>] 955.28K  --.-KB/s    in 0.1s    \n",
            "\n",
            "2021-05-14 14:30:58 (8.20 MB/s) - ‘ml-latest-small.zip’ saved [978202/978202]\n",
            "\n",
            "--2021-05-14 14:30:58--  https://files.grouplens.org/datasets/movielens/ml-1m.zip\n",
            "Resolving files.grouplens.org (files.grouplens.org)... 128.101.65.152\n",
            "Connecting to files.grouplens.org (files.grouplens.org)|128.101.65.152|:443... connected.\n",
            "WARNING: cannot verify files.grouplens.org's certificate, issued by ‘CN=InCommon RSA Server CA,OU=InCommon,O=Internet2,L=Ann Arbor,ST=MI,C=US’:\n",
            "  Unable to locally verify the issuer's authority.\n",
            "HTTP request sent, awaiting response... 200 OK\n",
            "Length: 5917549 (5.6M) [application/zip]\n",
            "Saving to: ‘ml-1m.zip’\n",
            "\n",
            "ml-1m.zip           100%[===================>]   5.64M  30.7MB/s    in 0.2s    \n",
            "\n",
            "2021-05-14 14:30:59 (30.7 MB/s) - ‘ml-1m.zip’ saved [5917549/5917549]\n",
            "\n",
            "--2021-05-14 14:30:59--  https://files.grouplens.org/datasets/movielens/ml-25m.zip\n",
            "Resolving files.grouplens.org (files.grouplens.org)... 128.101.65.152\n",
            "Connecting to files.grouplens.org (files.grouplens.org)|128.101.65.152|:443... connected.\n",
            "WARNING: cannot verify files.grouplens.org's certificate, issued by ‘CN=InCommon RSA Server CA,OU=InCommon,O=Internet2,L=Ann Arbor,ST=MI,C=US’:\n",
            "  Unable to locally verify the issuer's authority.\n",
            "HTTP request sent, awaiting response... 200 OK\n",
            "Length: 261978986 (250M) [application/zip]\n",
            "Saving to: ‘ml-25m.zip’\n",
            "\n",
            "ml-25m.zip          100%[===================>] 249.84M   124MB/s    in 2.0s    \n",
            "\n",
            "2021-05-14 14:31:01 (124 MB/s) - ‘ml-25m.zip’ saved [261978986/261978986]\n",
            "\n"
          ],
          "name": "stdout"
        }
      ]
    },
    {
      "cell_type": "markdown",
      "metadata": {
        "id": "5Xy-d7sr30uR"
      },
      "source": [
        "Descomprimiendo datasets"
      ]
    },
    {
      "cell_type": "code",
      "metadata": {
        "colab": {
          "base_uri": "https://localhost:8080/"
        },
        "id": "8IZQGFT5W3Ml",
        "outputId": "758d7606-25d3-423d-ce7c-9bd4babc08c1"
      },
      "source": [
        "!unzip ml-latest-small.zip\n",
        "!unzip ml-1m.zip\n",
        "!unzip ml-25m.zip"
      ],
      "execution_count": 4,
      "outputs": [
        {
          "output_type": "stream",
          "text": [
            "Archive:  ml-latest-small.zip\n",
            "   creating: ml-latest-small/\n",
            "  inflating: ml-latest-small/links.csv  \n",
            "  inflating: ml-latest-small/tags.csv  \n",
            "  inflating: ml-latest-small/ratings.csv  \n",
            "  inflating: ml-latest-small/README.txt  \n",
            "  inflating: ml-latest-small/movies.csv  \n",
            "Archive:  ml-1m.zip\n",
            "   creating: ml-1m/\n",
            "  inflating: ml-1m/movies.dat        \n",
            "  inflating: ml-1m/ratings.dat       \n",
            "  inflating: ml-1m/README            \n",
            "  inflating: ml-1m/users.dat         \n",
            "Archive:  ml-25m.zip\n",
            "   creating: ml-25m/\n",
            "  inflating: ml-25m/tags.csv         \n",
            "  inflating: ml-25m/links.csv        \n",
            "  inflating: ml-25m/README.txt       \n",
            "  inflating: ml-25m/ratings.csv      \n",
            "  inflating: ml-25m/genome-tags.csv  \n",
            "  inflating: ml-25m/genome-scores.csv  \n",
            "  inflating: ml-25m/movies.csv       \n"
          ],
          "name": "stdout"
        }
      ]
    },
    {
      "cell_type": "markdown",
      "metadata": {
        "id": "LQjlqIrh369A"
      },
      "source": [
        "#Preparando dataset"
      ]
    },
    {
      "cell_type": "code",
      "metadata": {
        "colab": {
          "base_uri": "https://localhost:8080/",
          "height": 204
        },
        "id": "kw4baQDkXeTy",
        "outputId": "09b26b67-dfb3-4ec2-bf4a-91d545ff06d7"
      },
      "source": [
        "import pandas as pd\n",
        "import numpy as np\n",
        "import numpy.ma as ma\n",
        "\n",
        "# Movielens 100k\n",
        "#df = pd.read_csv('ml-latest-small/ratings.csv')\n",
        "\n",
        "# Movielens 1M\n",
        "df = pd.read_csv('ml-1m/ratings.dat', sep=':', header=None)\n",
        "df = df.drop(labels=[1,3,5], axis=1)\n",
        "df.columns=['userId','movieId','rating','timestamp']\n",
        "\n",
        "# Movielens 25M\n",
        "#df = pd.read_csv('ml-25m/ratings.csv')\n",
        "\n",
        "df.head()"
      ],
      "execution_count": 79,
      "outputs": [
        {
          "output_type": "execute_result",
          "data": {
            "text/html": [
              "<div>\n",
              "<style scoped>\n",
              "    .dataframe tbody tr th:only-of-type {\n",
              "        vertical-align: middle;\n",
              "    }\n",
              "\n",
              "    .dataframe tbody tr th {\n",
              "        vertical-align: top;\n",
              "    }\n",
              "\n",
              "    .dataframe thead th {\n",
              "        text-align: right;\n",
              "    }\n",
              "</style>\n",
              "<table border=\"1\" class=\"dataframe\">\n",
              "  <thead>\n",
              "    <tr style=\"text-align: right;\">\n",
              "      <th></th>\n",
              "      <th>userId</th>\n",
              "      <th>movieId</th>\n",
              "      <th>rating</th>\n",
              "      <th>timestamp</th>\n",
              "    </tr>\n",
              "  </thead>\n",
              "  <tbody>\n",
              "    <tr>\n",
              "      <th>0</th>\n",
              "      <td>1</td>\n",
              "      <td>1193</td>\n",
              "      <td>5</td>\n",
              "      <td>978300760</td>\n",
              "    </tr>\n",
              "    <tr>\n",
              "      <th>1</th>\n",
              "      <td>1</td>\n",
              "      <td>661</td>\n",
              "      <td>3</td>\n",
              "      <td>978302109</td>\n",
              "    </tr>\n",
              "    <tr>\n",
              "      <th>2</th>\n",
              "      <td>1</td>\n",
              "      <td>914</td>\n",
              "      <td>3</td>\n",
              "      <td>978301968</td>\n",
              "    </tr>\n",
              "    <tr>\n",
              "      <th>3</th>\n",
              "      <td>1</td>\n",
              "      <td>3408</td>\n",
              "      <td>4</td>\n",
              "      <td>978300275</td>\n",
              "    </tr>\n",
              "    <tr>\n",
              "      <th>4</th>\n",
              "      <td>1</td>\n",
              "      <td>2355</td>\n",
              "      <td>5</td>\n",
              "      <td>978824291</td>\n",
              "    </tr>\n",
              "  </tbody>\n",
              "</table>\n",
              "</div>"
            ],
            "text/plain": [
              "   userId  movieId  rating  timestamp\n",
              "0       1     1193       5  978300760\n",
              "1       1      661       3  978302109\n",
              "2       1      914       3  978301968\n",
              "3       1     3408       4  978300275\n",
              "4       1     2355       5  978824291"
            ]
          },
          "metadata": {
            "tags": []
          },
          "execution_count": 79
        }
      ]
    },
    {
      "cell_type": "markdown",
      "metadata": {
        "id": "AeDl4nbxSUTp"
      },
      "source": [
        "Metadata de la tabla de rating"
      ]
    },
    {
      "cell_type": "code",
      "metadata": {
        "colab": {
          "base_uri": "https://localhost:8080/"
        },
        "id": "sBR716eGST3r",
        "outputId": "61cf96a7-0ea6-4b71-fc41-bcf6c06423ac"
      },
      "source": [
        "df.info"
      ],
      "execution_count": 80,
      "outputs": [
        {
          "output_type": "execute_result",
          "data": {
            "text/plain": [
              "<bound method DataFrame.info of          userId  movieId  rating  timestamp\n",
              "0             1     1193       5  978300760\n",
              "1             1      661       3  978302109\n",
              "2             1      914       3  978301968\n",
              "3             1     3408       4  978300275\n",
              "4             1     2355       5  978824291\n",
              "...         ...      ...     ...        ...\n",
              "1000204    6040     1091       1  956716541\n",
              "1000205    6040     1094       5  956704887\n",
              "1000206    6040      562       5  956704746\n",
              "1000207    6040     1096       4  956715648\n",
              "1000208    6040     1097       4  956715569\n",
              "\n",
              "[1000209 rows x 4 columns]>"
            ]
          },
          "metadata": {
            "tags": []
          },
          "execution_count": 80
        }
      ]
    },
    {
      "cell_type": "code",
      "metadata": {
        "colab": {
          "base_uri": "https://localhost:8080/",
          "height": 419
        },
        "id": "YENTe0jDYDgR",
        "outputId": "23bff867-dd33-45d1-e4f7-2ca2ed5ac1b0"
      },
      "source": [
        "# Movielens 100k\n",
        "#movieDf = pd.read_csv('ml-latest-small/movies.csv')\n",
        "\n",
        "# Movielens 1M\n",
        "movieDf = pd.read_csv('ml-1m/movies.dat', sep='::', engine='python', header=None)\n",
        "movieDf.columns=['movieId','title','genres']\n",
        "\n",
        "# Movielens 25M\n",
        "#movieDf = pd.read_csv('ml-25m/movies.csv')\n",
        "movieDf"
      ],
      "execution_count": 81,
      "outputs": [
        {
          "output_type": "execute_result",
          "data": {
            "text/html": [
              "<div>\n",
              "<style scoped>\n",
              "    .dataframe tbody tr th:only-of-type {\n",
              "        vertical-align: middle;\n",
              "    }\n",
              "\n",
              "    .dataframe tbody tr th {\n",
              "        vertical-align: top;\n",
              "    }\n",
              "\n",
              "    .dataframe thead th {\n",
              "        text-align: right;\n",
              "    }\n",
              "</style>\n",
              "<table border=\"1\" class=\"dataframe\">\n",
              "  <thead>\n",
              "    <tr style=\"text-align: right;\">\n",
              "      <th></th>\n",
              "      <th>movieId</th>\n",
              "      <th>title</th>\n",
              "      <th>genres</th>\n",
              "    </tr>\n",
              "  </thead>\n",
              "  <tbody>\n",
              "    <tr>\n",
              "      <th>0</th>\n",
              "      <td>1</td>\n",
              "      <td>Toy Story (1995)</td>\n",
              "      <td>Animation|Children's|Comedy</td>\n",
              "    </tr>\n",
              "    <tr>\n",
              "      <th>1</th>\n",
              "      <td>2</td>\n",
              "      <td>Jumanji (1995)</td>\n",
              "      <td>Adventure|Children's|Fantasy</td>\n",
              "    </tr>\n",
              "    <tr>\n",
              "      <th>2</th>\n",
              "      <td>3</td>\n",
              "      <td>Grumpier Old Men (1995)</td>\n",
              "      <td>Comedy|Romance</td>\n",
              "    </tr>\n",
              "    <tr>\n",
              "      <th>3</th>\n",
              "      <td>4</td>\n",
              "      <td>Waiting to Exhale (1995)</td>\n",
              "      <td>Comedy|Drama</td>\n",
              "    </tr>\n",
              "    <tr>\n",
              "      <th>4</th>\n",
              "      <td>5</td>\n",
              "      <td>Father of the Bride Part II (1995)</td>\n",
              "      <td>Comedy</td>\n",
              "    </tr>\n",
              "    <tr>\n",
              "      <th>...</th>\n",
              "      <td>...</td>\n",
              "      <td>...</td>\n",
              "      <td>...</td>\n",
              "    </tr>\n",
              "    <tr>\n",
              "      <th>3878</th>\n",
              "      <td>3948</td>\n",
              "      <td>Meet the Parents (2000)</td>\n",
              "      <td>Comedy</td>\n",
              "    </tr>\n",
              "    <tr>\n",
              "      <th>3879</th>\n",
              "      <td>3949</td>\n",
              "      <td>Requiem for a Dream (2000)</td>\n",
              "      <td>Drama</td>\n",
              "    </tr>\n",
              "    <tr>\n",
              "      <th>3880</th>\n",
              "      <td>3950</td>\n",
              "      <td>Tigerland (2000)</td>\n",
              "      <td>Drama</td>\n",
              "    </tr>\n",
              "    <tr>\n",
              "      <th>3881</th>\n",
              "      <td>3951</td>\n",
              "      <td>Two Family House (2000)</td>\n",
              "      <td>Drama</td>\n",
              "    </tr>\n",
              "    <tr>\n",
              "      <th>3882</th>\n",
              "      <td>3952</td>\n",
              "      <td>Contender, The (2000)</td>\n",
              "      <td>Drama|Thriller</td>\n",
              "    </tr>\n",
              "  </tbody>\n",
              "</table>\n",
              "<p>3883 rows × 3 columns</p>\n",
              "</div>"
            ],
            "text/plain": [
              "      movieId                               title                        genres\n",
              "0           1                    Toy Story (1995)   Animation|Children's|Comedy\n",
              "1           2                      Jumanji (1995)  Adventure|Children's|Fantasy\n",
              "2           3             Grumpier Old Men (1995)                Comedy|Romance\n",
              "3           4            Waiting to Exhale (1995)                  Comedy|Drama\n",
              "4           5  Father of the Bride Part II (1995)                        Comedy\n",
              "...       ...                                 ...                           ...\n",
              "3878     3948             Meet the Parents (2000)                        Comedy\n",
              "3879     3949          Requiem for a Dream (2000)                         Drama\n",
              "3880     3950                    Tigerland (2000)                         Drama\n",
              "3881     3951             Two Family House (2000)                         Drama\n",
              "3882     3952               Contender, The (2000)                Drama|Thriller\n",
              "\n",
              "[3883 rows x 3 columns]"
            ]
          },
          "metadata": {
            "tags": []
          },
          "execution_count": 81
        }
      ]
    },
    {
      "cell_type": "markdown",
      "metadata": {
        "id": "1wqX1Ert4Y8k"
      },
      "source": [
        "#Preparando variables que se usarán a lo largo del programa"
      ]
    },
    {
      "cell_type": "code",
      "metadata": {
        "id": "8PG4OYwi9y_8"
      },
      "source": [
        "# movieIdName: Diccionario que tendrá como clave el id de una película\n",
        "# y como valor el título de la película\n",
        "movieIdName = {}\n",
        "for index, row in movieDf.iterrows():\n",
        "  movieIdName[row['movieId']] = row['title']"
      ],
      "execution_count": 82,
      "outputs": []
    },
    {
      "cell_type": "code",
      "metadata": {
        "colab": {
          "base_uri": "https://localhost:8080/"
        },
        "id": "PntGFg6qYh3C",
        "outputId": "1489d895-fa11-4eff-b512-fb966b06d647"
      },
      "source": [
        "# calculando el tiempo manualmente para el dataset de 1M\n",
        "#import time\n",
        "#t0 = time.time()\n",
        "\n",
        "# userRatings: Diccionario principal que contendrá como clave el id de un usuario\n",
        "# y como valor tendrá otro diccionario, el cual tendrá como clave el id de una película\n",
        "# y como valor tendrá el rating que dicho usuario le dió\n",
        "userRatings = {}\n",
        "for index, row in df.iterrows():\n",
        "  movId = row['movieId'].astype(int)\n",
        "  usrId  = row['userId'].astype(int)\n",
        "  rating = row['rating']\n",
        "  # Inicializando el diccionario para los rating de cada película de cada usuario\n",
        "  if usrId in userRatings:\n",
        "    userRatings[usrId][movId] = rating\n",
        "  else:\n",
        "    userRatings[usrId] = {movId: rating}\n",
        "t1 = time.time()\n",
        "\n",
        "#total = t1-t0\n",
        "\n",
        "# Número de usuarios\n",
        "print(len(userRatings))\n",
        "#print(total)"
      ],
      "execution_count": 84,
      "outputs": [
        {
          "output_type": "stream",
          "text": [
            "6040\n",
            "105.40069389343262\n"
          ],
          "name": "stdout"
        }
      ]
    },
    {
      "cell_type": "code",
      "metadata": {
        "colab": {
          "base_uri": "https://localhost:8080/"
        },
        "id": "8kcRT2eVww17",
        "outputId": "03931d21-5a22-46e2-cd31-edf4e8c27fcc"
      },
      "source": [
        "avg = 0\n",
        "for usrId, ratings in userRatings.items():\n",
        "  avg += len(ratings)\n",
        "avg /= len(userRatings)\n",
        "print(avg)"
      ],
      "execution_count": 102,
      "outputs": [
        {
          "output_type": "stream",
          "text": [
            "165.58632676709155\n"
          ],
          "name": "stdout"
        }
      ]
    },
    {
      "cell_type": "markdown",
      "metadata": {
        "id": "ZuhCUSYvltxW"
      },
      "source": [
        "# Calculando las películas para recomendar a un usuario"
      ]
    },
    {
      "cell_type": "code",
      "metadata": {
        "id": "AktHcnUZT9dl"
      },
      "source": [
        "# common_rating: Recibe 2 ids de usuario y filtra los rating que dieron\n",
        "# para que solo se considere los casos en los que ambos le dieron un\n",
        "# rating a una película\n",
        "def common_rating(usrId1, usrId2):\n",
        "  x = []\n",
        "  y = []\n",
        "  # Recorremos los rating del primer usuario\n",
        "  for movId, rating in userRatings[usrId1].items():\n",
        "    # Si el id de la película del rating del primer usuario también\n",
        "    # se encuentra en los rating del segundo usuario, entonces\n",
        "    # se agrega el rating del usuario 1 al array 'x' y\n",
        "    # el rating del usuario 2 al array 'y'\n",
        "    if movId in userRatings[usrId2]:\n",
        "      x.append(rating)\n",
        "      y.append(userRatings[usrId2][movId])\n",
        "  # Se retornan como arreglos numpy para que el cálculo de medidas\n",
        "  # de similitud sea más rápido\n",
        "  return np.array(x), np.array(y)"
      ],
      "execution_count": 85,
      "outputs": []
    },
    {
      "cell_type": "code",
      "metadata": {
        "id": "c7yTPBtWYl6X"
      },
      "source": [
        "# euclidean_distance: recibe 2 arreglos numpy\n",
        "# y retorna su distancia euclidiana\n",
        "def euclidean_distance(x, y):\n",
        "  return np.sqrt(np.sum((x-y)**2))\n",
        "\n",
        "# manhattan_distance: recibe 2 arreglos numpy\n",
        "# y retorna su distancia manhattan\n",
        "def manhattan_distance(x, y):\n",
        "  return np.sum(np.absolute(x-y))\n",
        "\n",
        "# pearson_correlation: recibe 2 arreglos numpy y\n",
        "# retorna su correlación de pearson, las librerías adicionales\n",
        "# sirven para evitar el mensaje de warning por si se diera el caso\n",
        "# de que se intenta calcular la correlación y uno de los\n",
        "# vectores 'x' o 'y' es constante, lo que resultaría en una división por cero\n",
        "from scipy.stats.stats import pearsonr\n",
        "import warnings\n",
        "warnings.filterwarnings('error')\n",
        "def pearson_correlation(x, y):\n",
        "  try:\n",
        "    return pearsonr(x, y)[0]\n",
        "  # retorna 0 si se divide por 0 en el cálculo de la correlación\n",
        "  except:\n",
        "    return 0\n",
        "\n",
        "# cosine_similarity: recibe 2 arreglos numpy y\n",
        "# retorna su similitud de cosenos\n",
        "def cosine_similarity(x, y):\n",
        "  return np.dot(x, y)/(np.sqrt(np.dot(x,x))*np.sqrt(np.dot(y,y)))\n"
      ],
      "execution_count": 86,
      "outputs": []
    },
    {
      "cell_type": "code",
      "metadata": {
        "id": "1lYoAYcWlfAj"
      },
      "source": [
        "# predict_rating: Función auxiliar para la función get_knn\n",
        "# Recibe un diccionario de los vecinos más cercanos donde\n",
        "# la clave es el id del usuario y el valor es la una distancia de similitud\n",
        "# respectiva, también recibe el id de una película.\n",
        "# Entonces, la función calcula el grado de influencia y retorna la predicción\n",
        "# del rating para la película con dicho id\n",
        "def predict_rating(knn, movieId):\n",
        "  # total acumula la suma de las medidas de similitud de \n",
        "  # los vecinos más cercanos\n",
        "  total = 0\n",
        "  prediction = 0\n",
        "  # Recorriendo el diccionario de vecinos más cercanos con sus\n",
        "  # respectivas distancias\n",
        "  for usrId, distance in knn.items():\n",
        "    # solo se considera en el cálculo del grado de influencia a\n",
        "    # aquellos usuarios que hayan calificado la película\n",
        "    # a la que se intenta predecir el rating que recibiría\n",
        "    if movieId in userRatings[usrId]:\n",
        "      # se acumula en prediction el rating * medida de similitud\n",
        "      prediction += userRatings[usrId][movieId]*distance\n",
        "      total += distance\n",
        "  # verificando que total no sea 0, que se da en el caso de \n",
        "  # que todas las medidas de similitud de los vecinos más cercanos sean 0\n",
        "  if(total==0):\n",
        "    return 0\n",
        "  # se retorna la predicción\n",
        "  return np.around(prediction/total, 1)\n",
        "  \n",
        "# get_knn: Función principal del programa, que tiene como parámetros\n",
        "# user: id del usuario al que se le recomendarán películas\n",
        "# k: número de vecinos más cercanos a considerar, si no se especifica,\n",
        "# se utilizan 3 por defecto\n",
        "# method: string con el nombre del método para el cálculo de\n",
        "# la medida de similitud(pearson, euclidean, manhattan, cosine_sim)\n",
        "# threshold: umbral para recomendar películas\n",
        "def get_knn(user, k=10, method='pearson',threshold=3.5):\n",
        "  # distances: diccionario con id de usuario como clave y\n",
        "  # como valor tendrá la medida de similitud\n",
        "  distances = {}\n",
        "  dist = 0\n",
        "  # Fuerza bruta para encontrar los vecinos más cercanos,\n",
        "  # por lo que se requerirá calcular la similitud\n",
        "  # con todos los usuarios\n",
        "  for usrId in userRatings.keys():\n",
        "    # no se calcula la similitud con uno mismo\n",
        "    if (usrId == user):\n",
        "      continue\n",
        "    # obteniendo los arreglos con rating en común\n",
        "    x, y = common_rating(user, usrId)\n",
        "    # Si no tienen ningún rating en común\n",
        "    # se devuelve 999999 para las distancias euclidianas y manhattan\n",
        "    # y -2 para las correlación de pearson y la similitud de cosenos\n",
        "    # Se asignan eso valores para que no se consideren a la\n",
        "    # hora de recomendar películas\n",
        "    if (x.size == 0):\n",
        "      if (method=='euclidean' or method=='manhattan'):\n",
        "        distances[usrId] = 999999\n",
        "      else:\n",
        "        distances[usrId] = -2\n",
        "      continue\n",
        "    # dependiendo del método escogido, se calcula la similitud\n",
        "    if  (method=='euclidean'):\n",
        "      dist = euclidean_distance(x, y)\n",
        "    elif (method=='manhattan'):\n",
        "      dist = manhattan_distance(x, y)\n",
        "    elif (method=='pearson'):\n",
        "      dist = pearson_correlation(x, y)\n",
        "    elif (method=='cosine_sim'):\n",
        "      dist = cosine_similarity(x, y)\n",
        "    else:\n",
        "      print('Método no válido')\n",
        "      return\n",
        "    # se almacena la distancia en el diccionario distances\n",
        "    distances[usrId] = dist\n",
        "  \n",
        "  # Si es una medida de desimilitud se ordena de menor a mayor,\n",
        "  # caso contrario se ordena de mayor a menor\n",
        "  if(method=='euclidean' or method=='manhattan'):\n",
        "    distances = {k: v for k, v in sorted(distances.items(), key=lambda item: item[1])}\n",
        "  else:\n",
        "    distances = {k: v for k, v in sorted(distances.items(), key=lambda item: item[1], reverse=True)}\n",
        "      \n",
        "  # solo se almacena en knn los k vecinos más cercanos\n",
        "  knn = {}\n",
        "  for usrId, distance in distances.items():\n",
        "    if(k==0):\n",
        "      break\n",
        "    #print(usrId, distance)\n",
        "    knn[usrId] = distance\n",
        "    k -= 1\n",
        "  \n",
        "  # moviesFreq: diccionario con clave al id de la película\n",
        "  # y con valor la frecuencia de la película que se repite entre los usuarios\n",
        "  moviesFreq = {}\n",
        "  for usrId in knn.keys():\n",
        "    for movId, rating in userRatings[usrId].items():\n",
        "      if (rating >= threshold):\n",
        "        if movId in moviesFreq:\n",
        "          moviesFreq[movId] += 1\n",
        "        else:\n",
        "          moviesFreq[movId] = 1\n",
        "\n",
        "  # Se ordena moviesFreq de mayor a menor según la frecuencia\n",
        "  # de las películas\n",
        "  #print('Películas con mayor frecuencia entre los vecinos más cercanos:')\n",
        "  moviesFreq = {k: v for k, v in sorted(moviesFreq.items(), key=lambda item: item[1], reverse=True)}\n",
        "\n",
        "  # moviesName: diccionario con clave el id de una película y con valor una\n",
        "  # tupla que representa la frecuencia de la película y el grado de influencia\n",
        "  moviesName = {}\n",
        "  for movId, value in moviesFreq.items():\n",
        "    if movId not in userRatings[user]:\n",
        "      moviesName[movieIdName[movId]] = (value, predict_rating(knn, movId))\n",
        "\n",
        "  # imprimiendo las películas recomendadas a user\n",
        "  #for key, value in moviesName.items():\n",
        "    #print(key, value)\n"
      ],
      "execution_count": 87,
      "outputs": []
    },
    {
      "cell_type": "code",
      "metadata": {
        "id": "lUEI4-2R6TKs"
      },
      "source": [
        "from random import randrange\n",
        "# add_user: función que sirve para añadir un nuevo usuario al dataset\n",
        "# que recibe como parámetro el número de películas que quiere calificar\n",
        "def add_user(moviesCount=20):\n",
        "  # su id de usuario será la próxima disponible\n",
        "  newUsrId = len(userRatings)+1\n",
        "  # ratings: diccionario con id de película como clave y el rating\n",
        "  # a esta como valor\n",
        "  ratings = {}\n",
        "  for i in range(moviesCount):\n",
        "    # obtenemos una fila aleatoria del dataset de películas\n",
        "    # para que el usuario pueda calificar\n",
        "    row = movieDf.loc[randrange(movieDf.shape[0])]\n",
        "\n",
        "    # Solicitamos al usuario que califique(manualmente)\n",
        "    #print(\"Ingrese una calificación para la película \", end=\"\")\n",
        "    #print(row['title'],end=\":\\n\")\n",
        "    #ratings[row['movieId']] = float(input())\n",
        "\n",
        "    # Dar un rating aleatorio entre 1 y 5(automático)\n",
        "    ratings[row['movieId']] = randrange(1,5)\n",
        "  # Finalmente agregamos al usuario al dataset\n",
        "  userRatings[newUsrId] = ratings\n",
        "  # retornamos su id\n",
        "  return newUsrId\n",
        "\n",
        "usrId = add_user(moviesCount=100)\n",
        "# Le recomendamos películas al nuevo usuario\n",
        "get_knn(usrId, k=7, method='manhattan')"
      ],
      "execution_count": 88,
      "outputs": []
    },
    {
      "cell_type": "markdown",
      "metadata": {
        "id": "0kMrl4x9l6D6"
      },
      "source": [
        "# Midiendo tiempos de las funciones"
      ]
    },
    {
      "cell_type": "code",
      "metadata": {
        "colab": {
          "base_uri": "https://localhost:8080/"
        },
        "id": "UOIb1SE_l8-4",
        "outputId": "e141f1fd-05ac-4130-a8cc-515d6a7e3d3d"
      },
      "source": [
        "%timeit x,y = common_rating(1, 2)"
      ],
      "execution_count": 89,
      "outputs": [
        {
          "output_type": "stream",
          "text": [
            "10000 loops, best of 5: 26.6 µs per loop\n"
          ],
          "name": "stdout"
        }
      ]
    },
    {
      "cell_type": "code",
      "metadata": {
        "id": "vrVrncnan1fQ"
      },
      "source": [
        "x,y = common_rating(1, 2)"
      ],
      "execution_count": 91,
      "outputs": []
    },
    {
      "cell_type": "code",
      "metadata": {
        "colab": {
          "base_uri": "https://localhost:8080/"
        },
        "id": "JJTcaDrVn6M-",
        "outputId": "0f12ac24-3f64-4be7-f838-1db9bbc0c0bc"
      },
      "source": [
        "%timeit euclidean_distance(x, y)"
      ],
      "execution_count": 92,
      "outputs": [
        {
          "output_type": "stream",
          "text": [
            "The slowest run took 19.58 times longer than the fastest. This could mean that an intermediate result is being cached.\n",
            "100000 loops, best of 5: 9.9 µs per loop\n"
          ],
          "name": "stdout"
        }
      ]
    },
    {
      "cell_type": "code",
      "metadata": {
        "colab": {
          "base_uri": "https://localhost:8080/"
        },
        "id": "BGtaLoq7n-V4",
        "outputId": "ee5be049-7180-49b5-87bd-fa4c2d74e82d"
      },
      "source": [
        "%timeit manhattan_distance(x, y)"
      ],
      "execution_count": 93,
      "outputs": [
        {
          "output_type": "stream",
          "text": [
            "The slowest run took 15.03 times longer than the fastest. This could mean that an intermediate result is being cached.\n",
            "100000 loops, best of 5: 6.28 µs per loop\n"
          ],
          "name": "stdout"
        }
      ]
    },
    {
      "cell_type": "code",
      "metadata": {
        "colab": {
          "base_uri": "https://localhost:8080/"
        },
        "id": "YRM7TtU_n_85",
        "outputId": "54f80e21-ed05-4b9c-a1b1-107b47d21ba1"
      },
      "source": [
        "%timeit pearson_correlation(x, y)"
      ],
      "execution_count": 94,
      "outputs": [
        {
          "output_type": "stream",
          "text": [
            "The slowest run took 7.65 times longer than the fastest. This could mean that an intermediate result is being cached.\n",
            "10000 loops, best of 5: 72.7 µs per loop\n"
          ],
          "name": "stdout"
        }
      ]
    },
    {
      "cell_type": "code",
      "metadata": {
        "colab": {
          "base_uri": "https://localhost:8080/"
        },
        "id": "MC7rBALSoAgP",
        "outputId": "65624c8a-e366-4095-9526-030ec8fd59a7"
      },
      "source": [
        "%timeit cosine_similarity(x, y)"
      ],
      "execution_count": 95,
      "outputs": [
        {
          "output_type": "stream",
          "text": [
            "The slowest run took 9.89 times longer than the fastest. This could mean that an intermediate result is being cached.\n",
            "100000 loops, best of 5: 10.7 µs per loop\n"
          ],
          "name": "stdout"
        }
      ]
    },
    {
      "cell_type": "code",
      "metadata": {
        "colab": {
          "base_uri": "https://localhost:8080/"
        },
        "id": "LNNEffUpoc9l",
        "outputId": "db9293f8-bfac-4862-81ba-e6042b2a72c9"
      },
      "source": [
        "%timeit get_knn(580, k=7, method='manhattan')"
      ],
      "execution_count": 96,
      "outputs": [
        {
          "output_type": "stream",
          "text": [
            "10 loops, best of 5: 148 ms per loop\n"
          ],
          "name": "stdout"
        }
      ]
    },
    {
      "cell_type": "markdown",
      "metadata": {
        "id": "gETDhS6pU0TH"
      },
      "source": [
        "# Determinando K óptimo"
      ]
    },
    {
      "cell_type": "code",
      "metadata": {
        "colab": {
          "base_uri": "https://localhost:8080/"
        },
        "id": "Q9F85DyYV_yR",
        "outputId": "705452dd-ffd6-4ce9-e0a9-e07f701177de"
      },
      "source": [
        "get_knn(usrId, k=4, method='manhattan')"
      ],
      "execution_count": 15,
      "outputs": [
        {
          "output_type": "stream",
          "text": [
            "2819 3\n",
            "1621 5\n",
            "5159 5\n",
            "2133 6\n",
            "Películas con mayor frecuencia entre los vecinos más cercanos:\n",
            "U-571 (2000) (3, 4.2)\n",
            "Star Wars: Episode IV - A New Hope (1977) (2, 5.0)\n",
            "Rules of Engagement (2000) (2, 3.8)\n",
            "Frequency (2000) (2, 3.7)\n",
            "Erin Brockovich (2000) (1, 4.0)\n",
            "Cider House Rules, The (1999) (1, 5.0)\n",
            "What Planet Are You From? (2000) (1, 4.0)\n",
            "Supernova (2000) (1, 2.8)\n",
            "Mission to Mars (2000) (1, 3.1)\n",
            "I Dreamed of Africa (2000) (1, 5.0)\n",
            "Platoon (1986) (1, 5.0)\n",
            "Welcome to the Dollhouse (1995) (1, 4.0)\n",
            "Final Destination (2000) (1, 3.5)\n",
            "Lost World: Jurassic Park, The (1997) (1, 2.9)\n",
            "Gladiator (2000) (1, 3.5)\n",
            "Wizard of Oz, The (1939) (1, 5.0)\n",
            "Payback (1999) (1, 4.0)\n",
            "Silence of the Lambs, The (1991) (1, 5.0)\n",
            "Peacemaker, The (1997) (1, 5.0)\n",
            "Any Given Sunday (1999) (1, 4.0)\n",
            "Men in Black (1997) (1, 4.0)\n",
            "Committed (2000) (1, 5.0)\n",
            "Rudy (1993) (1, 4.0)\n"
          ],
          "name": "stdout"
        }
      ]
    },
    {
      "cell_type": "code",
      "metadata": {
        "colab": {
          "base_uri": "https://localhost:8080/"
        },
        "id": "9Lx17T54U6F5",
        "outputId": "34e29ba1-a65f-4916-cdc3-07ae03cdbe01"
      },
      "source": [
        "get_knn(usrId, k=5, method='manhattan')"
      ],
      "execution_count": 16,
      "outputs": [
        {
          "output_type": "stream",
          "text": [
            "2819 3\n",
            "1621 5\n",
            "5159 5\n",
            "2133 6\n",
            "2357 6\n",
            "Películas con mayor frecuencia entre los vecinos más cercanos:\n",
            "U-571 (2000) (4, 4.4)\n",
            "Rules of Engagement (2000) (3, 3.9)\n",
            "Erin Brockovich (2000) (2, 4.0)\n",
            "Star Wars: Episode IV - A New Hope (1977) (2, 5.0)\n",
            "Mission to Mars (2000) (2, 3.5)\n",
            "I Dreamed of Africa (2000) (2, 4.3)\n",
            "Final Destination (2000) (2, 4.1)\n",
            "Frequency (2000) (2, 3.5)\n",
            "Silence of the Lambs, The (1991) (2, 5.0)\n",
            "Any Given Sunday (1999) (2, 4.0)\n",
            "Cider House Rules, The (1999) (1, 3.7)\n",
            "What Planet Are You From? (2000) (1, 4.0)\n",
            "Supernova (2000) (1, 2.8)\n",
            "Platoon (1986) (1, 5.0)\n",
            "Welcome to the Dollhouse (1995) (1, 4.0)\n",
            "Lost World: Jurassic Park, The (1997) (1, 2.9)\n",
            "Gladiator (2000) (1, 3.5)\n",
            "Wizard of Oz, The (1939) (1, 5.0)\n",
            "Payback (1999) (1, 4.0)\n",
            "Peacemaker, The (1997) (1, 5.0)\n",
            "Men in Black (1997) (1, 4.0)\n",
            "Committed (2000) (1, 5.0)\n",
            "Rudy (1993) (1, 4.0)\n",
            "Scream 3 (2000) (1, 5.0)\n",
            "Snow Day (2000) (1, 4.0)\n",
            "Skulls, The (2000) (1, 3.5)\n",
            "Hollow Man (2000) (1, 3.5)\n",
            "Magnolia (1999) (1, 4.0)\n",
            "Reindeer Games (2000) (1, 4.0)\n",
            "Fletch (1985) (1, 4.0)\n",
            "28 Days (2000) (1, 4.0)\n",
            "Patriot, The (2000) (1, 4.0)\n"
          ],
          "name": "stdout"
        }
      ]
    },
    {
      "cell_type": "code",
      "metadata": {
        "colab": {
          "base_uri": "https://localhost:8080/"
        },
        "id": "ppHKSrx4U67O",
        "outputId": "92e737d9-725e-4491-dac9-ded71d6ae5f2"
      },
      "source": [
        "get_knn(usrId, k=6, method='manhattan')"
      ],
      "execution_count": 17,
      "outputs": [
        {
          "output_type": "stream",
          "text": [
            "2819 3\n",
            "1621 5\n",
            "5159 5\n",
            "2133 6\n",
            "2357 6\n",
            "1927 8\n",
            "Películas con mayor frecuencia entre los vecinos más cercanos:\n",
            "U-571 (2000) (4, 4.4)\n",
            "Rules of Engagement (2000) (3, 3.9)\n",
            "Erin Brockovich (2000) (2, 4.0)\n",
            "Star Wars: Episode IV - A New Hope (1977) (2, 5.0)\n",
            "Mission to Mars (2000) (2, 3.5)\n",
            "I Dreamed of Africa (2000) (2, 4.3)\n",
            "Final Destination (2000) (2, 4.1)\n",
            "Frequency (2000) (2, 3.5)\n",
            "Silence of the Lambs, The (1991) (2, 5.0)\n",
            "Any Given Sunday (1999) (2, 4.0)\n",
            "Men in Black (1997) (2, 4.0)\n",
            "Cider House Rules, The (1999) (1, 3.7)\n",
            "What Planet Are You From? (2000) (1, 4.0)\n",
            "Supernova (2000) (1, 2.8)\n",
            "Platoon (1986) (1, 5.0)\n",
            "Welcome to the Dollhouse (1995) (1, 4.0)\n",
            "Lost World: Jurassic Park, The (1997) (1, 2.9)\n",
            "Gladiator (2000) (1, 3.5)\n",
            "Wizard of Oz, The (1939) (1, 5.0)\n",
            "Payback (1999) (1, 4.0)\n",
            "Peacemaker, The (1997) (1, 5.0)\n",
            "Committed (2000) (1, 5.0)\n",
            "Rudy (1993) (1, 4.0)\n",
            "Scream 3 (2000) (1, 5.0)\n",
            "Snow Day (2000) (1, 4.0)\n",
            "Skulls, The (2000) (1, 3.5)\n",
            "Hollow Man (2000) (1, 3.5)\n",
            "Magnolia (1999) (1, 4.0)\n",
            "Reindeer Games (2000) (1, 4.0)\n",
            "Fletch (1985) (1, 4.0)\n",
            "28 Days (2000) (1, 4.0)\n",
            "Patriot, The (2000) (1, 4.0)\n",
            "Full Monty, The (1997) (1, 4.0)\n",
            "Fly, The (1958) (1, 4.0)\n",
            "Haunting, The (1963) (1, 5.0)\n",
            "Repo Man (1984) (1, 5.0)\n",
            "Airplane! (1980) (1, 5.0)\n",
            "Raging Bull (1980) (1, 5.0)\n",
            "Best in Show (2000) (1, 5.0)\n",
            "Abbott and Costello Meet Frankenstein (1948) (1, 5.0)\n"
          ],
          "name": "stdout"
        }
      ]
    },
    {
      "cell_type": "code",
      "metadata": {
        "colab": {
          "base_uri": "https://localhost:8080/"
        },
        "id": "XPIQDX6ZU7VW",
        "outputId": "9ebbde9c-c7fd-43c7-9311-3ab3235f012e"
      },
      "source": [
        "get_knn(usrId, k=7, method='manhattan')"
      ],
      "execution_count": 22,
      "outputs": [
        {
          "output_type": "stream",
          "text": [
            "2819 3\n",
            "1621 5\n",
            "5159 5\n",
            "2133 6\n",
            "2357 6\n",
            "1927 8\n",
            "3133 8\n",
            "Películas con mayor frecuencia entre los vecinos más cercanos:\n",
            "U-571 (2000) (4, 4.4)\n",
            "Erin Brockovich (2000) (3, 4.0)\n",
            "Rules of Engagement (2000) (3, 3.9)\n",
            "Star Wars: Episode IV - A New Hope (1977) (2, 5.0)\n",
            "Mission to Mars (2000) (2, 3.5)\n",
            "I Dreamed of Africa (2000) (2, 4.3)\n",
            "Final Destination (2000) (2, 4.1)\n",
            "Frequency (2000) (2, 3.5)\n",
            "Silence of the Lambs, The (1991) (2, 5.0)\n",
            "Any Given Sunday (1999) (2, 4.0)\n",
            "Men in Black (1997) (2, 4.0)\n",
            "Patriot, The (2000) (2, 4.0)\n",
            "Full Monty, The (1997) (2, 4.0)\n",
            "Cider House Rules, The (1999) (1, 3.7)\n",
            "What Planet Are You From? (2000) (1, 4.0)\n",
            "Supernova (2000) (1, 2.8)\n",
            "Platoon (1986) (1, 5.0)\n",
            "Welcome to the Dollhouse (1995) (1, 4.0)\n",
            "Lost World: Jurassic Park, The (1997) (1, 2.9)\n",
            "Gladiator (2000) (1, 3.3)\n",
            "Wizard of Oz, The (1939) (1, 5.0)\n",
            "Payback (1999) (1, 4.0)\n",
            "Peacemaker, The (1997) (1, 5.0)\n",
            "Committed (2000) (1, 5.0)\n",
            "Rudy (1993) (1, 4.0)\n",
            "Scream 3 (2000) (1, 3.9)\n",
            "Snow Day (2000) (1, 4.0)\n",
            "Skulls, The (2000) (1, 3.5)\n",
            "Hollow Man (2000) (1, 3.5)\n",
            "Magnolia (1999) (1, 4.0)\n",
            "Reindeer Games (2000) (1, 3.5)\n",
            "Fletch (1985) (1, 4.0)\n",
            "28 Days (2000) (1, 4.0)\n",
            "Fly, The (1958) (1, 4.0)\n",
            "Haunting, The (1963) (1, 5.0)\n",
            "Repo Man (1984) (1, 5.0)\n",
            "Airplane! (1980) (1, 5.0)\n",
            "Raging Bull (1980) (1, 5.0)\n",
            "Best in Show (2000) (1, 5.0)\n",
            "Abbott and Costello Meet Frankenstein (1948) (1, 5.0)\n",
            "White Men Can't Jump (1992) (1, 4.0)\n",
            "Deuce Bigalow: Male Gigolo (1999) (1, 4.0)\n",
            "Next Friday (1999) (1, 4.0)\n"
          ],
          "name": "stdout"
        }
      ]
    },
    {
      "cell_type": "code",
      "metadata": {
        "colab": {
          "base_uri": "https://localhost:8080/"
        },
        "id": "l98cAQLdU7_f",
        "outputId": "2e43761e-fd6b-4164-d374-c6bf344a0db2"
      },
      "source": [
        "get_knn(usrId, k=10, method='manhattan')"
      ],
      "execution_count": 19,
      "outputs": [
        {
          "output_type": "stream",
          "text": [
            "2819 3\n",
            "1621 5\n",
            "5159 5\n",
            "2133 6\n",
            "2357 6\n",
            "1927 8\n",
            "3133 8\n",
            "3542 8\n",
            "907 9\n",
            "1363 9\n",
            "Películas con mayor frecuencia entre los vecinos más cercanos:\n",
            "U-571 (2000) (4, 4.4)\n",
            "Erin Brockovich (2000) (3, 3.7)\n",
            "Star Wars: Episode IV - A New Hope (1977) (3, 4.5)\n",
            "Rules of Engagement (2000) (3, 3.9)\n",
            "Silence of the Lambs, The (1991) (3, 4.6)\n",
            "Mission to Mars (2000) (2, 3.5)\n",
            "I Dreamed of Africa (2000) (2, 4.3)\n",
            "Final Destination (2000) (2, 4.1)\n",
            "Gladiator (2000) (2, 3.5)\n",
            "Frequency (2000) (2, 3.5)\n",
            "Any Given Sunday (1999) (2, 4.0)\n",
            "Men in Black (1997) (2, 4.0)\n",
            "Skulls, The (2000) (2, 3.7)\n",
            "Magnolia (1999) (2, 4.6)\n",
            "Reindeer Games (2000) (2, 3.7)\n",
            "Patriot, The (2000) (2, 4.0)\n",
            "Full Monty, The (1997) (2, 4.0)\n",
            "Cider House Rules, The (1999) (1, 3.7)\n",
            "What Planet Are You From? (2000) (1, 4.0)\n",
            "Supernova (2000) (1, 2.8)\n",
            "Platoon (1986) (1, 5.0)\n",
            "Welcome to the Dollhouse (1995) (1, 4.0)\n",
            "Lost World: Jurassic Park, The (1997) (1, 2.9)\n",
            "Wizard of Oz, The (1939) (1, 5.0)\n",
            "Payback (1999) (1, 4.0)\n",
            "Peacemaker, The (1997) (1, 5.0)\n",
            "Committed (2000) (1, 5.0)\n",
            "Rudy (1993) (1, 4.0)\n",
            "Scream 3 (2000) (1, 3.9)\n",
            "Snow Day (2000) (1, 4.0)\n",
            "Hollow Man (2000) (1, 3.5)\n",
            "Fletch (1985) (1, 4.0)\n",
            "28 Days (2000) (1, 4.0)\n",
            "Fly, The (1958) (1, 4.0)\n",
            "Haunting, The (1963) (1, 5.0)\n",
            "Repo Man (1984) (1, 5.0)\n",
            "Airplane! (1980) (1, 5.0)\n",
            "Raging Bull (1980) (1, 5.0)\n",
            "Best in Show (2000) (1, 5.0)\n",
            "Abbott and Costello Meet Frankenstein (1948) (1, 5.0)\n",
            "White Men Can't Jump (1992) (1, 4.0)\n",
            "Deuce Bigalow: Male Gigolo (1999) (1, 4.0)\n",
            "Next Friday (1999) (1, 4.0)\n",
            "Romeo Must Die (2000) (1, 3.6)\n",
            "Here on Earth (2000) (1, 4.0)\n",
            "Bridge on the River Kwai, The (1957) (1, 4.0)\n",
            "Great Escape, The (1963) (1, 4.0)\n",
            "Manchurian Candidate, The (1962) (1, 4.0)\n",
            "L.A. Confidential (1997) (1, 4.0)\n",
            "Big Night (1996) (1, 4.0)\n",
            "Hud (1963) (1, 4.0)\n",
            "My Life as a Dog (Mitt liv som hund) (1985) (1, 4.0)\n",
            "Star Wars: Episode V - The Empire Strikes Back (1980) (1, 4.0)\n",
            "Graduate, The (1967) (1, 4.0)\n",
            "Roger & Me (1989) (1, 5.0)\n",
            "Groundhog Day (1993) (1, 5.0)\n",
            "Commitments, The (1991) (1, 5.0)\n",
            "Thin Red Line, The (1998) (1, 5.0)\n",
            "Sheltering Sky, The (1990) (1, 4.0)\n",
            "Player, The (1992) (1, 5.0)\n",
            "Hoop Dreams (1994) (1, 5.0)\n",
            "Small Time Crooks (2000) (1, 4.0)\n",
            "Next Stop, Wonderland (1998) (1, 4.0)\n",
            "Dick (1999) (1, 4.0)\n",
            "Nico Icon (1995) (1, 4.0)\n",
            "Thirty-Two Short Films About Glenn Gould (1993) (1, 5.0)\n"
          ],
          "name": "stdout"
        }
      ]
    },
    {
      "cell_type": "markdown",
      "metadata": {
        "id": "duWagPsOZpol"
      },
      "source": [
        "#Buscando medida de similitud óptima"
      ]
    },
    {
      "cell_type": "code",
      "metadata": {
        "colab": {
          "base_uri": "https://localhost:8080/"
        },
        "id": "_h-zaCjKZtzw",
        "outputId": "a7cc75d4-ca56-4da1-f3f8-5cf197a29e4d"
      },
      "source": [
        "get_knn(usrId, k=7, method='euclidean')"
      ],
      "execution_count": 26,
      "outputs": [
        {
          "output_type": "stream",
          "text": [
            "2819 1.7320508075688772\n",
            "1621 2.23606797749979\n",
            "2357 3.1622776601683795\n",
            "2133 3.4641016151377544\n",
            "3133 3.4641016151377544\n",
            "1091 3.605551275463989\n",
            "5159 3.605551275463989\n",
            "Películas con mayor frecuencia entre los vecinos más cercanos:\n",
            "U-571 (2000) (4, 4.4)\n",
            "Erin Brockovich (2000) (3, 4.0)\n",
            "Rules of Engagement (2000) (3, 3.8)\n",
            "Star Wars: Episode IV - A New Hope (1977) (2, 5.0)\n",
            "Mission to Mars (2000) (2, 3.4)\n",
            "I Dreamed of Africa (2000) (2, 4.4)\n",
            "Final Destination (2000) (2, 4.0)\n",
            "Silence of the Lambs, The (1991) (2, 5.0)\n",
            "Any Given Sunday (1999) (2, 4.0)\n",
            "Patriot, The (2000) (2, 4.0)\n",
            "Frequency (2000) (2, 3.6)\n",
            "Cider House Rules, The (1999) (1, 3.7)\n",
            "What Planet Are You From? (2000) (1, 4.0)\n",
            "Supernova (2000) (1, 2.6)\n",
            "Platoon (1986) (1, 5.0)\n",
            "Welcome to the Dollhouse (1995) (1, 4.0)\n",
            "Lost World: Jurassic Park, The (1997) (1, 2.9)\n",
            "Gladiator (2000) (1, 3.2)\n",
            "Scream 3 (2000) (1, 4.0)\n",
            "Snow Day (2000) (1, 4.0)\n",
            "Skulls, The (2000) (1, 3.5)\n",
            "Hollow Man (2000) (1, 3.6)\n",
            "Magnolia (1999) (1, 4.0)\n",
            "Reindeer Games (2000) (1, 3.5)\n",
            "Fletch (1985) (1, 4.0)\n",
            "28 Days (2000) (1, 4.0)\n",
            "Peacemaker, The (1997) (1, 5.0)\n",
            "Men in Black (1997) (1, 3.5)\n",
            "Committed (2000) (1, 5.0)\n",
            "Rudy (1993) (1, 4.0)\n",
            "Full Monty, The (1997) (1, 4.0)\n",
            "White Men Can't Jump (1992) (1, 4.0)\n",
            "Deuce Bigalow: Male Gigolo (1999) (1, 4.0)\n",
            "Next Friday (1999) (1, 4.0)\n",
            "Twister (1996) (1, 4.0)\n",
            "Pretty Woman (1990) (1, 4.0)\n",
            "Black Cauldron, The (1985) (1, 4.0)\n",
            "Wizard of Oz, The (1939) (1, 5.0)\n",
            "Payback (1999) (1, 3.5)\n"
          ],
          "name": "stdout"
        }
      ]
    },
    {
      "cell_type": "code",
      "metadata": {
        "colab": {
          "base_uri": "https://localhost:8080/"
        },
        "id": "dy1fI3SOZw3b",
        "outputId": "e6a62662-feae-457d-c833-0dd8536c68ea"
      },
      "source": [
        "get_knn(usrId, k=7, method='manhattan')"
      ],
      "execution_count": 27,
      "outputs": [
        {
          "output_type": "stream",
          "text": [
            "2819 3\n",
            "1621 5\n",
            "5159 5\n",
            "2133 6\n",
            "2357 6\n",
            "1927 8\n",
            "3133 8\n",
            "Películas con mayor frecuencia entre los vecinos más cercanos:\n",
            "U-571 (2000) (4, 4.4)\n",
            "Erin Brockovich (2000) (3, 4.0)\n",
            "Rules of Engagement (2000) (3, 3.9)\n",
            "Star Wars: Episode IV - A New Hope (1977) (2, 5.0)\n",
            "Mission to Mars (2000) (2, 3.5)\n",
            "I Dreamed of Africa (2000) (2, 4.3)\n",
            "Final Destination (2000) (2, 4.1)\n",
            "Frequency (2000) (2, 3.5)\n",
            "Silence of the Lambs, The (1991) (2, 5.0)\n",
            "Any Given Sunday (1999) (2, 4.0)\n",
            "Men in Black (1997) (2, 4.0)\n",
            "Patriot, The (2000) (2, 4.0)\n",
            "Full Monty, The (1997) (2, 4.0)\n",
            "Cider House Rules, The (1999) (1, 3.7)\n",
            "What Planet Are You From? (2000) (1, 4.0)\n",
            "Supernova (2000) (1, 2.8)\n",
            "Platoon (1986) (1, 5.0)\n",
            "Welcome to the Dollhouse (1995) (1, 4.0)\n",
            "Lost World: Jurassic Park, The (1997) (1, 2.9)\n",
            "Gladiator (2000) (1, 3.3)\n",
            "Wizard of Oz, The (1939) (1, 5.0)\n",
            "Payback (1999) (1, 4.0)\n",
            "Peacemaker, The (1997) (1, 5.0)\n",
            "Committed (2000) (1, 5.0)\n",
            "Rudy (1993) (1, 4.0)\n",
            "Scream 3 (2000) (1, 3.9)\n",
            "Snow Day (2000) (1, 4.0)\n",
            "Skulls, The (2000) (1, 3.5)\n",
            "Hollow Man (2000) (1, 3.5)\n",
            "Magnolia (1999) (1, 4.0)\n",
            "Reindeer Games (2000) (1, 3.5)\n",
            "Fletch (1985) (1, 4.0)\n",
            "28 Days (2000) (1, 4.0)\n",
            "Fly, The (1958) (1, 4.0)\n",
            "Haunting, The (1963) (1, 5.0)\n",
            "Repo Man (1984) (1, 5.0)\n",
            "Airplane! (1980) (1, 5.0)\n",
            "Raging Bull (1980) (1, 5.0)\n",
            "Best in Show (2000) (1, 5.0)\n",
            "Abbott and Costello Meet Frankenstein (1948) (1, 5.0)\n",
            "White Men Can't Jump (1992) (1, 4.0)\n",
            "Deuce Bigalow: Male Gigolo (1999) (1, 4.0)\n",
            "Next Friday (1999) (1, 4.0)\n"
          ],
          "name": "stdout"
        }
      ]
    },
    {
      "cell_type": "code",
      "metadata": {
        "colab": {
          "base_uri": "https://localhost:8080/"
        },
        "id": "T_R29nRSZxOt",
        "outputId": "1dcc8630-debc-4760-d395-da947f7b12f9"
      },
      "source": [
        "get_knn(usrId, k=7, method='pearson')"
      ],
      "execution_count": 28,
      "outputs": [
        {
          "output_type": "stream",
          "text": [
            "4515 0.7905694150420948\n",
            "317 0.7218397547786818\n",
            "5069 0.705642285072797\n",
            "2815 0.6981033097668207\n",
            "5315 0.6665826983223992\n",
            "3286 0.6543811821755866\n",
            "1456 0.6484603870837242\n",
            "Películas con mayor frecuencia entre los vecinos más cercanos:\n",
            "Wizard of Oz, The (1939) (2, 4.0)\n",
            "Gone with the Wind (1939) (2, 5.0)\n",
            "Star Wars: Episode IV - A New Hope (1977) (2, 4.0)\n",
            "Star Wars: Episode V - The Empire Strikes Back (1980) (2, 4.0)\n",
            "Graduate, The (1967) (2, 4.5)\n",
            "Usual Suspects, The (1995) (2, 4.5)\n",
            "African Queen, The (1951) (1, 5.0)\n",
            "Goldfinger (1964) (1, 4.0)\n",
            "Treasure of the Sierra Madre, The (1948) (1, 5.0)\n",
            "Great Escape, The (1963) (1, 5.0)\n",
            "Butch Cassidy and the Sundance Kid (1969) (1, 5.0)\n",
            "Singin' in the Rain (1952) (1, 5.0)\n",
            "Mrs. Doubtfire (1993) (1, 5.0)\n",
            "M*A*S*H (1970) (1, 4.0)\n",
            "Close Encounters of the Third Kind (1977) (1, 5.0)\n",
            "Chariots of Fire (1981) (1, 4.0)\n",
            "Driving Miss Daisy (1989) (1, 4.0)\n",
            "Laura (1944) (1, 5.0)\n",
            "Cook the Thief His Wife & Her Lover, The (1989) (1, 5.0)\n",
            "Grifters, The (1990) (1, 5.0)\n",
            "Mediterraneo (1991) (1, 5.0)\n",
            "Strangers on a Train (1951) (1, 5.0)\n",
            "Touch of Evil (1958) (1, 5.0)\n",
            "Manchurian Candidate, The (1962) (1, 5.0)\n",
            "Big Sleep, The (1946) (1, 5.0)\n",
            "L.A. Confidential (1997) (1, 5.0)\n",
            "Cape Fear (1962) (1, 5.0)\n",
            "Key Largo (1948) (1, 5.0)\n",
            "Palmetto (1998) (1, 4.0)\n",
            "Live and Let Die (1973) (1, 4.0)\n",
            "Unforgiven (1992) (1, 4.0)\n",
            "Silence of the Lambs, The (1991) (1, 5.0)\n",
            "Creepshow (1982) (1, 4.0)\n",
            "Kingpin (1996) (1, 4.0)\n",
            "Far and Away (1992) (1, 4.0)\n",
            "Walk in the Clouds, A (1995) (1, 5.0)\n",
            "Legends of the Fall (1994) (1, 4.0)\n",
            "Fugitive, The (1993) (1, 3.9)\n",
            "Jean de Florette (1986) (1, 5.0)\n",
            "Manon of the Spring (Manon des sources) (1986) (1, 5.0)\n",
            "Die Hard 2 (1990) (1, 3.5)\n",
            "Bug's Life, A (1998) (1, 3.5)\n",
            "Rocky (1976) (1, 4.0)\n",
            "Sixth Sense, The (1999) (1, 5.0)\n",
            "Red Rock West (1992) (1, 4.0)\n",
            "Rear Window (1954) (1, 5.0)\n",
            "Payback (1999) (1, 4.0)\n",
            "Out of Africa (1985) (1, 5.0)\n",
            "Mystery Men (1999) (1, 4.0)\n",
            "Bowfinger (1999) (1, 4.0)\n",
            "Jungle Book, The (1967) (1, 4.0)\n",
            "This Is Spinal Tap (1984) (1, 5.0)\n",
            "Hard Day's Night, A (1964) (1, 5.0)\n",
            "Tommy (1975) (1, 5.0)\n",
            "Doctor Dolittle (1967) (1, 4.0)\n",
            "Cabaret (1972) (1, 4.0)\n",
            "West Side Story (1961) (1, 5.0)\n",
            "Mary Poppins (1964) (1, 5.0)\n",
            "Help! (1965) (1, 5.0)\n",
            "Dirty Dancing (1987) (1, 5.0)\n",
            "Breakfast at Tiffany's (1961) (1, 4.0)\n",
            "Boiler Room (2000) (1, 4.0)\n",
            "Magnolia (1999) (1, 5.0)\n",
            "Lethal Weapon 4 (1998) (1, 4.0)\n",
            "Crumb (1994) (1, 5.0)\n",
            "U-571 (2000) (1, 4.0)\n",
            "Patriot, The (2000) (1, 5.0)\n"
          ],
          "name": "stdout"
        }
      ]
    },
    {
      "cell_type": "code",
      "metadata": {
        "colab": {
          "base_uri": "https://localhost:8080/"
        },
        "id": "6q4p54gnZxko",
        "outputId": "693a7db6-f6ae-45d9-d0b5-b1e19897105f"
      },
      "source": [
        "get_knn(usrId, k=7, method='cosine_sim')"
      ],
      "execution_count": 29,
      "outputs": [
        {
          "output_type": "stream",
          "text": [
            "3783 0.9838699100999074\n",
            "1363 0.9782806431359609\n",
            "3238 0.9779008859218913\n",
            "1621 0.9756379699771127\n",
            "2819 0.9740492440449616\n",
            "1351 0.9739826654742461\n",
            "2357 0.9739318301999084\n",
            "Películas con mayor frecuencia entre los vecinos más cercanos:\n",
            "Rules of Engagement (2000) (3, 4.3)\n",
            "Babe (1995) (2, 4.5)\n",
            "Magnolia (1999) (2, 4.5)\n",
            "Christmas Story, A (1983) (2, 5.0)\n",
            "Star Wars: Episode V - The Empire Strikes Back (1980) (2, 4.0)\n",
            "Final Destination (2000) (2, 4.5)\n",
            "Erin Brockovich (2000) (2, 4.0)\n",
            "Mission to Mars (2000) (2, 4.5)\n",
            "U-571 (2000) (2, 4.3)\n",
            "I Dreamed of Africa (2000) (2, 4.5)\n",
            "Cool Hand Luke (1967) (1, 4.0)\n",
            "Little Big Man (1970) (1, 4.0)\n",
            "Bringing Up Baby (1938) (1, 5.0)\n",
            "Butch Cassidy and the Sundance Kid (1969) (1, 4.0)\n",
            "Prince of Egypt, The (1998) (1, 4.0)\n",
            "Network (1976) (1, 4.0)\n",
            "Tommy Boy (1995) (1, 4.0)\n",
            "Roger & Me (1989) (1, 5.0)\n",
            "Groundhog Day (1993) (1, 5.0)\n",
            "Commitments, The (1991) (1, 5.0)\n",
            "Thin Red Line, The (1998) (1, 5.0)\n",
            "Sheltering Sky, The (1990) (1, 4.0)\n",
            "Player, The (1992) (1, 5.0)\n",
            "Hoop Dreams (1994) (1, 5.0)\n",
            "Small Time Crooks (2000) (1, 4.0)\n",
            "Next Stop, Wonderland (1998) (1, 4.0)\n",
            "Dick (1999) (1, 4.0)\n",
            "Nico Icon (1995) (1, 4.0)\n",
            "Thirty-Two Short Films About Glenn Gould (1993) (1, 5.0)\n",
            "Heathers (1989) (1, 4.0)\n",
            "African Queen, The (1951) (1, 5.0)\n",
            "Stop Making Sense (1984) (1, 4.0)\n",
            "Breaker Morant (1980) (1, 5.0)\n",
            "Field of Dreams (1989) (1, 5.0)\n",
            "Elephant Man, The (1980) (1, 5.0)\n",
            "Driving Miss Daisy (1989) (1, 5.0)\n",
            "Risky Business (1983) (1, 5.0)\n",
            "Dangerous Liaisons (1988) (1, 5.0)\n",
            "Henry V (1989) (1, 5.0)\n",
            "Raging Bull (1980) (1, 5.0)\n",
            "Right Stuff, The (1983) (1, 5.0)\n",
            "Lost World: Jurassic Park, The (1997) (1, 4.0)\n",
            "Gladiator (2000) (1, 4.0)\n",
            "Star Wars: Episode IV - A New Hope (1977) (1, 5.0)\n",
            "Cider House Rules, The (1999) (1, 4.0)\n",
            "What Planet Are You From? (2000) (1, 4.0)\n",
            "Supernova (2000) (1, 4.0)\n",
            "Platoon (1986) (1, 5.0)\n",
            "Welcome to the Dollhouse (1995) (1, 4.0)\n",
            "Rock, The (1996) (1, 4.0)\n",
            "L.A. Confidential (1997) (1, 4.0)\n",
            "Shine (1996) (1, 4.0)\n",
            "Sixth Sense, The (1999) (1, 5.0)\n",
            "Usual Suspects, The (1995) (1, 5.0)\n",
            "Freaky Friday (1977) (1, 4.0)\n",
            "Silence of the Lambs, The (1991) (1, 5.0)\n",
            "Scream 3 (2000) (1, 5.0)\n",
            "Snow Day (2000) (1, 4.0)\n",
            "Skulls, The (2000) (1, 4.0)\n",
            "Hollow Man (2000) (1, 3.5)\n",
            "Reindeer Games (2000) (1, 3.5)\n",
            "Any Given Sunday (1999) (1, 4.0)\n",
            "Fletch (1985) (1, 4.0)\n",
            "28 Days (2000) (1, 5.0)\n",
            "Patriot, The (2000) (1, 3.5)\n"
          ],
          "name": "stdout"
        }
      ]
    }
  ]
}